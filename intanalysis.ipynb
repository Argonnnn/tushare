{
 "cells": [
  {
   "cell_type": "code",
   "execution_count": 1,
   "metadata": {},
   "outputs": [],
   "source": [
    "#数据库连接,必要的包\n",
    "from pigeon import encryptAndDecrypt, connectOracle\n",
    "import pandas as pd\n",
    "import numpy as np\n",
    "import datetime\n",
    "handle_file = encryptAndDecrypt.encryptAndDecrypt()\n",
    "dbInformation = handle_file.decrypt_file(dbName='wind')\n",
    "connDB = connectOracle.connectOracle(dbInformation)"
   ]
  },
  {
   "cell_type": "code",
   "execution_count": 11,
   "metadata": {},
   "outputs": [],
   "source": [
    "#根据sql拿到dataframe的数据\n",
    "def gettable(sql,conn):\n",
    "    db,cursor = conn.connect()\n",
    "    cursor.execute(sql)\n",
    "    result = cursor.fetchall() \n",
    "    des = cursor.description\n",
    "    conn.close()\n",
    "    col = [x[0] for x in des]\n",
    "    df = pd.DataFrame(result,columns = col).replace(0,np.nan).dropna(how='all',axis=1)\n",
    "    flag = [x[-4:] =='1231' for x in df.REPORT_PERIOD]\n",
    "    flag[0] = True\n",
    "    df = df[flag]\n",
    "    df = df[:4]\n",
    "    df.index = df.REPORT_PERIOD.values\n",
    "    df.drop('REPORT_PERIOD',axis = 1,inplace = True)\n",
    "    return df.dropna(how='all',axis=1).T.fillna(0)"
   ]
  },
  {
   "cell_type": "code",
   "execution_count": 10,
   "metadata": {},
   "outputs": [],
   "source": [
    "#计算窄口径有息负债\n",
    "compname = '杭州市交通投资集团有限公司'\n",
    "decimal = 100000000\n",
    "def getratio(compname,conn):\n",
    "    now = datetime.datetime.now()\n",
    "    time = str((now.year-5)*10000)\n",
    "    sql = '''\n",
    "    select s1.REPORT_PERIOD,ST_BORROW,NON_CUR_LIAB_DUE_WITHIN_1Y,LT_BORROW,BONDS_PAYABLE,LT_PAYABLE_TOT,LESS_FIN_EXP\n",
    "    from (select REPORT_PERIOD,ST_BORROW,NON_CUR_LIAB_DUE_WITHIN_1Y,LT_BORROW,BONDS_PAYABLE,LT_PAYABLE_TOT\n",
    "    from wind_user.CBondBalanceSheet where STATEMENT_TYPE = '408001000' and report_period>%s\n",
    "    and s_info_compcode =  \n",
    "    (select distinct s_info_compcode from wind_user.cbondissuer where s_info_compname = '%s')) s1\n",
    "    inner join (select REPORT_PERIOD,LESS_FIN_EXP\n",
    "    from wind_user.CBondIncome where STATEMENT_TYPE = '408001000' and report_period>%s\n",
    "    and s_info_compcode =  \n",
    "    (select distinct s_info_compcode from wind_user.cbondissuer where s_info_compname = '%s')) s2\n",
    "    on s1.REPORT_PERIOD = s2.REPORT_PERIOD\n",
    "    order by REPORT_PERIOD DESC\n",
    "    '''%(time,compname,time,compname)\n",
    "    \n",
    "    db,cursor = conn.connect()\n",
    "    cursor.execute(sql)\n",
    "    result = cursor.fetchall() \n",
    "    des = cursor.description\n",
    "    conn.close()\n",
    "    col = [x[0] for x in des]\n",
    "    df = pd.DataFrame(result,columns = col).replace(np.nan,0)\n",
    "    ratio = df['LESS_FIN_EXP']/df[['ST_BORROW','NON_CUR_LIAB_DUE_WITHIN_1Y','LT_BORROW','BONDS_PAYABLE','LT_PAYABLE_TOT']].sum(axis = 1)\n",
    "    ratio.index = df.REPORT_PERIOD\n",
    "    flag = [x[-4:] =='1231' for x in df.REPORT_PERIOD]\n",
    "    flag[0] = True\n",
    "    ratio = ratio[flag]\n",
    "    ratio = ratio[:4]\n",
    "    ratio.columns = [compname]\n",
    "    return ratio.to_dict()\n",
    "\n"
   ]
  },
  {
   "cell_type": "code",
   "execution_count": 56,
   "metadata": {},
   "outputs": [],
   "source": [
    "ratio = getratio(compname,connDB)\n"
   ]
  },
  {
   "cell_type": "code",
   "execution_count": 59,
   "metadata": {},
   "outputs": [
    {
     "data": {
      "text/plain": [
       "{'20190930': 0.011181914103872303,\n",
       " '20181231': 0.019258216984206204,\n",
       " '20171231': 0.03193685969896259,\n",
       " '20161231': 0.03398176862754233}"
      ]
     },
     "execution_count": 59,
     "metadata": {},
     "output_type": "execute_result"
    }
   ],
   "source": [
    "ratio.to_dict()"
   ]
  },
  {
   "cell_type": "code",
   "execution_count": 8,
   "metadata": {},
   "outputs": [],
   "source": [
    "def getintrat(compname,conn):\n",
    "    sql = '''\n",
    "    select s1.s_info_windcode,TRADE_DT,B_ANAL_PTMYEAR,B_ANAL_YTM,B_ISSUE_AMOUNTACT from\n",
    "    (select s_info_windcode,TRADE_DT,B_ANAL_PTMYEAR,B_ANAL_YTM from wind_user.CBondValuation \n",
    "    where s_info_windcode in (select s_info_windcode from wind_user.cbondissuer where \n",
    "    s_info_compname = '%s') and TRADE_DT>20200000) s1\n",
    "    inner join(select B_ISSUE_AMOUNTACT,s_info_windcode from wind_user.CBondDescription) s2\n",
    "    on s1.s_info_windcode = s2.s_info_windcode\n",
    "    order by TRADE_DT DESC\n",
    "    '''%compname\n",
    "    db,cursor = conn.connect()\n",
    "    cursor.execute(sql)\n",
    "    result = cursor.fetchall()\n",
    "    des = cursor.description\n",
    "    col = [x[0] for x in des]\n",
    "    df = pd.DataFrame(result,columns = col).replace(np.nan,0).drop_duplicates(subset = ['S_INFO_WINDCODE'])\n",
    "    a = df.B_ANAL_PTMYEAR\n",
    "    a = (a-a.min())/(a.max()-a.min())\n",
    "    wei = np.exp(-a)*df.B_ISSUE_AMOUNTACT\n",
    "    result = (wei*df.B_ANAL_YTM).sum()/(wei.sum())\n",
    "    return result"
   ]
  },
  {
   "cell_type": "code",
   "execution_count": 9,
   "metadata": {},
   "outputs": [],
   "source": [
    "def getresult(compname,conn):\n",
    "    print(compname+'begin')\n",
    "    try:\n",
    "        dic = getratio(compname,conn)\n",
    "        dic['tipicalintrate'] = getintrat(compname,conn)\n",
    "    except:\n",
    "        print(compname+'not exist')\n",
    "        return None\n",
    "    return zip(compname,dic)"
   ]
  },
  {
   "cell_type": "code",
   "execution_count": 113,
   "metadata": {},
   "outputs": [],
   "source": [
    "def getratiolist(complist,conn):\n",
    "    now = datetime.datetime.now()\n",
    "    time = str((now.year-5)*10000)\n",
    "    b = np.ceil(len(complist)/1000).astype(int)\n",
    "    lenth = np.ceil(len(complist)/b).astype(int)\n",
    "    ans = []\n",
    "    db,cursor = conn.connect()\n",
    "    for i in range(b):\n",
    "        tem = complist[i*lenth:i*lenth+lenth]\n",
    "        compname = '\\',\\''.join(tem)\n",
    "\n",
    "        sql = '''\n",
    "        select s3.s_info_compname,s1.REPORT_PERIOD,ST_BORROW,NON_CUR_LIAB_DUE_WITHIN_1Y,LT_BORROW,BONDS_PAYABLE,LT_PAYABLE_TOT,LESS_FIN_EXP\n",
    "        from (select distinct s_info_compname,s_info_compcode from wind_user.cbondissuer where s_info_compname in ('%s')) s3\n",
    "        inner join \n",
    "        (select s_info_compcode,REPORT_PERIOD,ST_BORROW,NON_CUR_LIAB_DUE_WITHIN_1Y,LT_BORROW,BONDS_PAYABLE,LT_PAYABLE_TOT\n",
    "        from wind_user.CBondBalanceSheet where STATEMENT_TYPE = '408001000' and report_period>%s) s1\n",
    "        on s1.s_info_compcode = s3.s_info_compcode\n",
    "        inner join (select s_info_compcode,REPORT_PERIOD,LESS_FIN_EXP\n",
    "        from wind_user.CBondIncome where STATEMENT_TYPE = '408001000' and report_period>%s) s2\n",
    "        on s1.REPORT_PERIOD = s2.REPORT_PERIOD and s1.s_info_compcode = s2.s_info_compcode\n",
    "        order by REPORT_PERIOD DESC\n",
    "        '''%(compname,time,time)\n",
    "        cursor.execute(sql)\n",
    "        result = cursor.fetchall()     \n",
    "        des = cursor.description\n",
    "        col = [x[0] for x in des]\n",
    "        df = pd.DataFrame(result,columns = col).replace(np.nan,0).drop_duplicates(subset = ['S_INFO_COMPNAME','REPORT_PERIOD'])\n",
    "        df['ratio'] = df['LESS_FIN_EXP']/df[['ST_BORROW','NON_CUR_LIAB_DUE_WITHIN_1Y','LT_BORROW','BONDS_PAYABLE','LT_PAYABLE_TOT']].sum(axis = 1)\n",
    "        ratio = df.pivot(index = 'REPORT_PERIOD',columns = 'S_INFO_COMPNAME',values ='ratio')\n",
    "        flag = [x[-4:] =='1231' for x in ratio.index]\n",
    "        if flag[-1]==1:\n",
    "            flag[-2] = True\n",
    "            ratio = ratio[flag][-5:]\n",
    "        else:\n",
    "            flag[-1] = True\n",
    "            ratio = ratio[flag][-4:]\n",
    "        ans.append(ratio)\n",
    "    conn.close()\n",
    "    return pd.concat(ans,axis = 1)\n",
    "\n",
    "        "
   ]
  },
  {
   "cell_type": "code",
   "execution_count": 114,
   "metadata": {},
   "outputs": [],
   "source": [
    "def getintDic(complist,conn):\n",
    "    now = datetime.datetime.now()\n",
    "    time = now-datetime.timedelta(days=90)\n",
    "    time = time.strftime('%Y%m%d')\n",
    "    b = np.ceil(len(complist)/1000).astype(int)\n",
    "    lenth = np.ceil(len(complist)/b).astype(int)\n",
    "    intlist = {}\n",
    "    db,cursor = conn.connect()\n",
    "    for i in range(b):\n",
    "        tem = complist[i*lenth:i*lenth+lenth]\n",
    "        compname = '\\',\\''.join(tem)\n",
    "        sql = '''\n",
    "        select s3.s_info_compname,s1.s_info_windcode,TRADE_DT,B_ANAL_PTMYEAR,B_ANAL_YTM,B_ISSUE_AMOUNTACT \n",
    "        from (select distinct s_info_windcode,s_info_compname from wind_user.cbondissuer where s_info_compname in ('%s')) s3\n",
    "        inner join (select s_info_windcode,TRADE_DT,B_ANAL_PTMYEAR,B_ANAL_YTM from wind_user.CBondValuation \n",
    "        where TRADE_DT>%s) s1\n",
    "        on s1.s_info_windcode = s3.s_info_windcode\n",
    "        inner join (select B_ISSUE_AMOUNTACT,s_info_windcode from wind_user.CBondDescription) s2\n",
    "        on s1.s_info_windcode = s2.s_info_windcode\n",
    "        order by TRADE_DT DESC\n",
    "        '''%(compname,time)\n",
    "        cursor.execute(sql)\n",
    "        result = cursor.fetchall()\n",
    "        print('result got')\n",
    "        des = cursor.description\n",
    "        col = [x[0] for x in des]\n",
    "        df = pd.DataFrame(result,columns = col).drop_duplicates(subset = ['S_INFO_WINDCODE'])\n",
    "        for item in df.groupby('S_INFO_COMPNAME'):\n",
    "            name = item[0]\n",
    "            temdf = item[1].replace(np.nan,0)\n",
    "            if len(temdf)==1:\n",
    "                intlist[name] = temdf.B_ANAL_PTMYEAR.values[0]\n",
    "                continue\n",
    "            a = temdf.B_ANAL_PTMYEAR\n",
    "            a = (a-a.min())/(a.max()-a.min())\n",
    "            wei = np.exp(-a)*temdf.B_ISSUE_AMOUNTACT\n",
    "            result = (wei*temdf.B_ANAL_YTM).sum()/(wei.sum())\n",
    "            intlist[name] = result\n",
    "    return intlist"
   ]
  },
  {
   "cell_type": "code",
   "execution_count": 116,
   "metadata": {},
   "outputs": [],
   "source": [
    "\n",
    "def getresult2(dftem,conn,name):\n",
    "    complist = list(dftem.主体全称.values)\n",
    "    print('satrt ratiolist')\n",
    "    ans = getratiolist(complist,conn)\n",
    "    print('satrt intdic')\n",
    "    intdic = getintDic(complist,conn)\n",
    "    series = pd.Series(intdic)\n",
    "    df0 = pd.concat([dftem,ans.T,series],axis = 1,sort=False)\n",
    "    col = df0.columns.values\n",
    "    col[-1] = '发债代表利率'\n",
    "    df0.columns = col\n",
    "    df0.to_excel(name+'.xlsx')\n",
    "    return df0\n"
   ]
  },
  {
   "cell_type": "code",
   "execution_count": null,
   "metadata": {},
   "outputs": [],
   "source": [
    "bondissuer = pd.read_excel('bondissuer.xlsx')\n",
    "rankfirst = pd.read_excel('rankfirst.xlsx')"
   ]
  },
  {
   "cell_type": "code",
   "execution_count": 117,
   "metadata": {},
   "outputs": [
    {
     "name": "stdout",
     "output_type": "stream",
     "text": [
      "satrt ratiolist\n",
      "satrt intdic\n",
      "result got\n"
     ]
    },
    {
     "name": "stderr",
     "output_type": "stream",
     "text": [
      "/opt/software/anaconda3/lib/python3.6/site-packages/ipykernel_launcher.py:37: RuntimeWarning: invalid value encountered in double_scalars\n"
     ]
    },
    {
     "name": "stdout",
     "output_type": "stream",
     "text": [
      "result got\n"
     ]
    },
    {
     "name": "stderr",
     "output_type": "stream",
     "text": [
      "/opt/software/anaconda3/lib/python3.6/site-packages/pandas/core/indexes/range.py:465: RuntimeWarning: '<' not supported between instances of 'int' and 'str', sort order is undefined for incomparable objects\n",
      "  return self._int64index.union(other)\n",
      "/opt/software/anaconda3/lib/python3.6/site-packages/pandas/core/indexes/api.py:69: RuntimeWarning: '<' not supported between instances of 'int' and 'str', sort order is undefined for incomparable objects\n",
      "  index = _union_indexes(indexes, sort=sort)\n"
     ]
    }
   ],
   "source": [
    "rank = getresult2(rankfirst,connDB,'rankfirst2')"
   ]
  },
  {
   "cell_type": "code",
   "execution_count": null,
   "metadata": {},
   "outputs": [],
   "source": []
  }
 ],
 "metadata": {
  "kernelspec": {
   "display_name": "Python 3",
   "language": "python",
   "name": "python3"
  },
  "language_info": {
   "codemirror_mode": {
    "name": "ipython",
    "version": 3
   },
   "file_extension": ".py",
   "mimetype": "text/x-python",
   "name": "python",
   "nbconvert_exporter": "python",
   "pygments_lexer": "ipython3",
   "version": "3.6.5"
  }
 },
 "nbformat": 4,
 "nbformat_minor": 4
}
